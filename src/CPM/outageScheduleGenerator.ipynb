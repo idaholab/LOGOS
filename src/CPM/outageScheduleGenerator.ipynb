{
 "cells": [
  {
   "cell_type": "markdown",
   "metadata": {},
   "source": [
    "## Notebook to consutrct the test plant outage schedule"
   ]
  },
  {
   "cell_type": "code",
   "execution_count": 1,
   "metadata": {},
   "outputs": [],
   "source": [
    "from PertMain2 import Pert, Activity\n",
    "import random"
   ]
  },
  {
   "cell_type": "code",
   "execution_count": 2,
   "metadata": {},
   "outputs": [],
   "source": [
    "# Main outage blocks\n",
    "courseSchedule = {'start': ['a'], \n",
    "                  'a': ['b','c','d','e'], \n",
    "                  'b': ['f'], \n",
    "                  'c': ['f'], \n",
    "                  'd': ['g','h'],\n",
    "                  'e': ['i'],  \n",
    "                  'f': ['g','h'],\n",
    "                  'g': ['i'], \n",
    "                  'h': ['i'],\n",
    "                  'i': ['end'],  \n",
    "                  'end':[]}\n",
    "numAct = {'start': 1,\n",
    "          'a': 27, \n",
    "          'b': 124, \n",
    "          'c': 87, \n",
    "          'd': 75,\n",
    "          'e': 112,  \n",
    "          'f': 98,\n",
    "          'g': 103, \n",
    "          'h': 69,\n",
    "          'i': 26,\n",
    "          'end': 1}\n",
    "\n",
    "fullActDict = {}\n",
    "for act in courseSchedule.keys():\n",
    "    if act not in ['start','end']:\n",
    "        for i in range(numAct[act]):\n",
    "            name = act + str(i)\n",
    "            duration = random.random()*10.0\n",
    "            fullActDict[name] = Activity(name, duration)\n",
    "    elif act=='start':\n",
    "        fullActDict['start'] = Activity('start', 24.)\n",
    "    elif act=='end':\n",
    "        fullActDict['end'] = Activity('end', 24.)\n",
    "    else:\n",
    "        print('error1') \n",
    "\n",
    "\n",
    "outageSchedule = {}\n",
    "for act in courseSchedule.keys():\n",
    "    if act=='end':\n",
    "        outageSchedule[fullActDict['end']] = []\n",
    "    else:\n",
    "        for i in range(numAct[act]):\n",
    "            if act=='start':\n",
    "                name = 'start'\n",
    "            else:\n",
    "                name = act + str(i)\n",
    "            if i==numAct[act]-1:\n",
    "                outageSchedule[fullActDict[name]] = []\n",
    "                for desc in courseSchedule[act]:\n",
    "                    if desc=='end':\n",
    "                        succ = 'end'\n",
    "                    else:\n",
    "                        succ = desc + str(0)\n",
    "                    outageSchedule[fullActDict[name]].append(fullActDict[succ])\n",
    "            else:\n",
    "                succ = act + str(i+1)\n",
    "                outageSchedule[fullActDict[name]] = [fullActDict[succ]]"
   ]
  },
  {
   "cell_type": "code",
   "execution_count": 3,
   "metadata": {},
   "outputs": [],
   "source": [
    "pert = Pert(outageSchedule)"
   ]
  },
  {
   "cell_type": "code",
   "execution_count": 4,
   "metadata": {},
   "outputs": [
    {
     "data": {
      "text/plain": [
       "{'start': ['b0', 'c0', 'd0', 'e0'],\n",
       " 'b0': ['f0'],\n",
       " 'c0': ['f0'],\n",
       " 'd0': ['g0', 'h0'],\n",
       " 'e0': ['i0'],\n",
       " 'f0': ['g0', 'h0'],\n",
       " 'g0': ['i0'],\n",
       " 'h0': ['i0'],\n",
       " 'end': []}"
      ]
     },
     "execution_count": 4,
     "metadata": {},
     "output_type": "execute_result"
    }
   ],
   "source": [
    "pertRed = pert.simplifyGraph()\n",
    "pertRed.returnGraphSymbolic()"
   ]
  }
 ],
 "metadata": {
  "kernelspec": {
   "display_name": "myenv",
   "language": "python",
   "name": "python3"
  },
  "language_info": {
   "codemirror_mode": {
    "name": "ipython",
    "version": 3
   },
   "file_extension": ".py",
   "mimetype": "text/x-python",
   "name": "python",
   "nbconvert_exporter": "python",
   "pygments_lexer": "ipython3",
   "version": "3.12.3"
  }
 },
 "nbformat": 4,
 "nbformat_minor": 2
}
