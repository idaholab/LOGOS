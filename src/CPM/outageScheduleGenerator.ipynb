{
 "cells": [
  {
   "cell_type": "markdown",
   "metadata": {},
   "source": [
    "## Notebook to construct the test plant outage schedule"
   ]
  },
  {
   "cell_type": "code",
   "execution_count": 1,
   "metadata": {},
   "outputs": [],
   "source": [
    "from PertMain2 import Pert, Activity\n",
    "import random\n",
    "from datetime import datetime, time\n",
    "\n",
    "random.seed(0)"
   ]
  },
  {
   "cell_type": "code",
   "execution_count": 2,
   "metadata": {},
   "outputs": [
    {
     "data": {
      "text/plain": [
       "10310"
      ]
     },
     "execution_count": 2,
     "metadata": {},
     "output_type": "execute_result"
    }
   ],
   "source": [
    "# Main outage blocks\n",
    "courseSchedule = {'start': ['1','2','3'], \n",
    "                  '1': ['4','5','6','10'], \n",
    "                  '2': ['15','16'], \n",
    "                  '3': ['100','101','102','107','108'], \n",
    "                  '4': ['7'],\n",
    "                  '5': ['7'],  \n",
    "                  '6': ['8','9'],\n",
    "                  '7': ['8'], \n",
    "                  '8': ['301'],\n",
    "                  '9': ['301'],  \n",
    "\n",
    "                  '10': ['11','12'], \n",
    "                  '11': ['13','14'],\n",
    "                  '12': ['13','14'], \n",
    "                  '13': ['302'], \n",
    "                  '14': ['302'],\n",
    "                  '15': ['17'],  \n",
    "                  '16': ['17'],\n",
    "                  '17': ['18','19','20'], \n",
    "                  '18': ['21','22'],\n",
    "                  '19': ['21','22'],  \n",
    "                  '20': ['21','22'], \n",
    "                  '21': ['302'],\n",
    "                  '22': ['302'],\n",
    "\n",
    "                  '100': ['103'], \n",
    "                  '101': ['103'], \n",
    "                  '102': ['105','106'], \n",
    "                  '103': ['104','105'], \n",
    "                  '104': ['109'],\n",
    "                  '105': ['109'],  \n",
    "                  '106': ['109'],\n",
    "                  '107': ['110'], \n",
    "                  '108': ['110'],\n",
    "                  '109': ['303'], \n",
    "                  '110': ['303'],  \n",
    "\n",
    "                  '301': ['end'], \n",
    "                  '302': ['end'], \n",
    "                  '303': ['end'],                   \n",
    "\n",
    "                  'end':[]}\n",
    "\n",
    "Nmin = 10\n",
    "Nmax = 500\n",
    "numAct = {}\n",
    "for act in courseSchedule.keys():\n",
    "    if act in ['start','end']:\n",
    "        numAct[act] = 1\n",
    "    else:\n",
    "        numAct[act] = random.randint(Nmin, Nmax)\n",
    "\n",
    "fullActDict = {}\n",
    "for act in courseSchedule.keys():\n",
    "    if act not in ['start','end']:\n",
    "        for i in range(numAct[act]):\n",
    "            name = act +'-'+ str(i)\n",
    "            duration = random.random()*2.0\n",
    "            fullActDict[name] = Activity(name, duration)\n",
    "    elif act=='start':\n",
    "        fullActDict['start'] = Activity('start', 24.)\n",
    "    elif act=='end':\n",
    "        fullActDict['end'] = Activity('end', 24.)\n",
    "    else:\n",
    "        print('error1') \n",
    "\n",
    "\n",
    "outageSchedule = {}\n",
    "for act in courseSchedule.keys():\n",
    "    if act=='end':\n",
    "        outageSchedule[fullActDict['end']] = []\n",
    "    else:\n",
    "        for i in range(numAct[act]):\n",
    "            if act=='start':\n",
    "                name = 'start'\n",
    "            else:\n",
    "                name = act +'-'+ str(i)\n",
    "                \n",
    "            if i==numAct[act]-1:\n",
    "                outageSchedule[fullActDict[name]] = []\n",
    "                for desc in courseSchedule[act]:\n",
    "                    if desc=='end':\n",
    "                        succ = 'end'\n",
    "                    else:\n",
    "                        succ = desc +'-'+ str(0)\n",
    "                    outageSchedule[fullActDict[name]].append(fullActDict[succ])\n",
    "            else:\n",
    "                succ = act +'-'+ str(i+1)\n",
    "                outageSchedule[fullActDict[name]] = [fullActDict[succ]]\n",
    "\n",
    "len(fullActDict.keys())"
   ]
  },
  {
   "cell_type": "code",
   "execution_count": 3,
   "metadata": {},
   "outputs": [
    {
     "data": {
      "text/plain": [
       "datetime.datetime(2025, 7, 21, 5, 18, 30, 311548)"
      ]
     },
     "execution_count": 3,
     "metadata": {},
     "output_type": "execute_result"
    }
   ],
   "source": [
    "outageStartTime =  datetime(2025, 4, 25, 8)\n",
    "\n",
    "pert = Pert(outageSchedule, startTime=outageStartTime)\n",
    "\n",
    "pert.returnScheduleEndTime()\n",
    "\n",
    "#import json\n",
    "#with open('benchmarkSchedule.json', 'w') as fp:\n",
    "#    json.dump(outageSchedule, fp)"
   ]
  },
  {
   "cell_type": "code",
   "execution_count": 4,
   "metadata": {},
   "outputs": [
    {
     "name": "stdout",
     "output_type": "stream",
     "text": [
      "start\n",
      "1\n",
      "10\n",
      "11\n",
      "13\n",
      "302\n",
      "end\n"
     ]
    }
   ],
   "source": [
    "CP = pert.getCriticalPathSymbolic()\n",
    "CP_mod = set()\n",
    "for elem in CP:\n",
    "    head, sep, tail = elem.partition('-')\n",
    "    if head not in CP_mod:\n",
    "        CP_mod.add(head)\n",
    "        print(head)"
   ]
  },
  {
   "cell_type": "code",
   "execution_count": 5,
   "metadata": {},
   "outputs": [],
   "source": [
    "pert.saveScheduleToJsn('benchmarkOutageSchedule.json')"
   ]
  },
  {
   "cell_type": "code",
   "execution_count": 6,
   "metadata": {},
   "outputs": [
    {
     "data": {
      "text/plain": [
       "{'start': ['1-0', '2-0', '3-0'],\n",
       " 'end': [],\n",
       " '1-0': ['4-0', '5-0', '6-0', '10-0'],\n",
       " '2-0': ['15-0', '16-0'],\n",
       " '3-0': ['100-0', '101-0', '102-0', '107-0', '108-0'],\n",
       " '4-0': ['7-0'],\n",
       " '5-0': ['7-0'],\n",
       " '6-0': ['8-0', '9-0'],\n",
       " '7-0': ['8-0'],\n",
       " '8-0': ['301-0'],\n",
       " '9-0': ['301-0'],\n",
       " '10-0': ['11-0', '12-0'],\n",
       " '11-0': ['13-0', '14-0'],\n",
       " '12-0': ['13-0', '14-0'],\n",
       " '13-0': ['302-0'],\n",
       " '14-0': ['302-0'],\n",
       " '15-0': ['17-0'],\n",
       " '16-0': ['17-0'],\n",
       " '17-0': ['18-0', '19-0', '20-0'],\n",
       " '18-0': ['21-0', '22-0'],\n",
       " '19-0': ['21-0', '22-0'],\n",
       " '20-0': ['21-0', '22-0'],\n",
       " '21-0': ['302-0'],\n",
       " '22-0': ['302-0'],\n",
       " '100-0': ['103-0'],\n",
       " '101-0': ['103-0'],\n",
       " '102-0': ['105-0', '106-0'],\n",
       " '103-0': ['104-0', '105-0'],\n",
       " '104-0': ['109-0'],\n",
       " '105-0': ['109-0'],\n",
       " '106-0': ['109-0'],\n",
       " '107-0': ['110-0'],\n",
       " '108-0': ['110-0'],\n",
       " '109-0': ['303-0'],\n",
       " '110-0': ['303-0'],\n",
       " '301-0': ['end'],\n",
       " '302-0': ['end'],\n",
       " '303-0': ['end']}"
      ]
     },
     "execution_count": 6,
     "metadata": {},
     "output_type": "execute_result"
    }
   ],
   "source": [
    "pertRed = pert.simplifyGraph()\n",
    "pertRed.returnGraphSymbolic()"
   ]
  },
  {
   "cell_type": "code",
   "execution_count": 7,
   "metadata": {},
   "outputs": [
    {
     "data": {
      "text/plain": [
       "datetime.datetime(2025, 7, 21, 5, 18, 30, 311548)"
      ]
     },
     "execution_count": 7,
     "metadata": {},
     "output_type": "execute_result"
    }
   ],
   "source": [
    "pertRed.returnScheduleEndTime()"
   ]
  }
 ],
 "metadata": {
  "kernelspec": {
   "display_name": "myenv",
   "language": "python",
   "name": "python3"
  },
  "language_info": {
   "codemirror_mode": {
    "name": "ipython",
    "version": 3
   },
   "file_extension": ".py",
   "mimetype": "text/x-python",
   "name": "python",
   "nbconvert_exporter": "python",
   "pygments_lexer": "ipython3",
   "version": "3.12.3"
  }
 },
 "nbformat": 4,
 "nbformat_minor": 2
}
