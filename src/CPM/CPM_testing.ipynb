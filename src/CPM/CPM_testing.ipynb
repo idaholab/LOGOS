{
 "cells": [
  {
   "cell_type": "code",
   "execution_count": 1,
   "metadata": {},
   "outputs": [],
   "source": [
    "from PertMain2 import Pert, Activity\n",
    "import copy\n",
    "import matplotlib.pyplot as plt\n",
    "import networkx as nx"
   ]
  },
  {
   "cell_type": "code",
   "execution_count": 2,
   "metadata": {},
   "outputs": [],
   "source": [
    "def pairsDetection(pertModel):\n",
    "    graph = pertModel.returnGraph()\n",
    "    pairs = []\n",
    "    for node in graph:\n",
    "        if pertModel.returnNumberSucc(node)==1:\n",
    "            successor = pertModel.returnSuccList(node)[0]\n",
    "            if pertModel.returnNumberPred(successor)==1:\n",
    "                pairs.append((node,successor))\n",
    "    return pairs\n"
   ]
  },
  {
   "cell_type": "code",
   "execution_count": 3,
   "metadata": {},
   "outputs": [
    {
     "data": {
      "text/plain": [
       "{'start': ['a', 'd', 'f'],\n",
       " 'a': ['b'],\n",
       " 'b': ['c'],\n",
       " 'c': ['end'],\n",
       " 'd': ['e'],\n",
       " 'e': ['end'],\n",
       " 'f': ['end'],\n",
       " 'end': []}"
      ]
     },
     "execution_count": 3,
     "metadata": {},
     "output_type": "execute_result"
    }
   ],
   "source": [
    "\n",
    "start = Activity(\"start\", 5)\n",
    "a = Activity(\"a\", 2)\n",
    "b = Activity(\"b\", 3)\n",
    "c = Activity(\"c\", 3)\n",
    "#d = Activity(\"d\", 7)\n",
    "d = Activity(\"d\", 4)\n",
    "e = Activity(\"e\", 3)\n",
    "f = Activity(\"f\", 6)\n",
    "end = Activity(\"end\", 2)\n",
    "#graph = {start: [a, d, f], a: [b], b: [c], c: [end], d: [end], f:[end], end:[]}\n",
    "graph = {start: [a, d, f], a: [b], b: [c], c: [end], d: [e], e: [end], f:[end], end:[]}\n",
    "\n",
    "pert = Pert(graph)\n",
    "\n",
    "pert.returnGraphSymbolic()\n"
   ]
  },
  {
   "cell_type": "code",
   "execution_count": 4,
   "metadata": {},
   "outputs": [
    {
     "name": "stdout",
     "output_type": "stream",
     "text": [
      "a b\n",
      "b c\n",
      "d e\n"
     ]
    }
   ],
   "source": [
    "listPairs = pairsDetection(pert)\n",
    "for pair in listPairs:\n",
    "    print(pair[0].returnName(),pair[1].returnName())"
   ]
  },
  {
   "cell_type": "code",
   "execution_count": 5,
   "metadata": {},
   "outputs": [
    {
     "data": {
      "image/png": "[encoded data removed]",
      "text/plain": [
       "<Figure size 640x480 with 1 Axes>"
      ]
     },
     "metadata": {},
     "output_type": "display_data"
    }
   ],
   "source": [
    "G = nx.DiGraph()\n",
    "G.add_edges_from(listPairs)\n",
    "nx.draw(G) "
   ]
  },
  {
   "cell_type": "code",
   "execution_count": 6,
   "metadata": {},
   "outputs": [
    {
     "name": "stdout",
     "output_type": "stream",
     "text": [
      "a\n",
      "b\n",
      "c\n",
      "e\n",
      "d\n"
     ]
    }
   ],
   "source": [
    "UG = G.to_undirected()\n",
    "A = (UG.subgraph(c) for c in nx.connected_components(UG))\n",
    "listSeries = list(A)\n",
    "\n",
    "for series in listSeries:\n",
    "    for elem in list(series.nodes):\n",
    "        print(elem.name)"
   ]
  },
  {
   "cell_type": "code",
   "execution_count": 7,
   "metadata": {},
   "outputs": [
    {
     "name": "stdout",
     "output_type": "stream",
     "text": [
      "a c\n",
      "d e\n"
     ]
    }
   ],
   "source": [
    "def graph_partitioning(G, plotting=True):\n",
    "    \"\"\"Partition a directed graph into a list of subgraphs that contain\n",
    "    only entirely supported or entirely unsupported nodes.\n",
    "    \"\"\"\n",
    "    # Categorize nodes by their node_type attribute\n",
    "    supported_nodes = {n for n, d in G.nodes(data=\"node_type\") if d == \"supported\"}\n",
    "    unsupported_nodes = {n for n, d in G.nodes(data=\"node_type\") if d == \"unsupported\"}\n",
    "\n",
    "    # Make a copy of the graph.\n",
    "    H = G.copy()\n",
    "    # Remove all edges connecting supported and unsupported nodes.\n",
    "    H.remove_edges_from(\n",
    "        (n, nbr, d)\n",
    "        for n, nbrs in G.adj.items()\n",
    "        if n in supported_nodes\n",
    "        for nbr, d in nbrs.items()\n",
    "        if nbr in unsupported_nodes\n",
    "    )\n",
    "    H.remove_edges_from(\n",
    "        (n, nbr, d)\n",
    "        for n, nbrs in G.adj.items()\n",
    "        if n in unsupported_nodes\n",
    "        for nbr, d in nbrs.items()\n",
    "        if nbr in supported_nodes\n",
    "    )\n",
    "\n",
    "    # Collect all removed edges for reconstruction.\n",
    "    G_minus_H = nx.DiGraph()\n",
    "    G_minus_H.add_edges_from(set(G.edges) - set(H.edges))\n",
    "\n",
    "    if plotting:\n",
    "        # Plot the stripped graph with the edges removed.\n",
    "        _node_colors = [c for _, c in H.nodes(data=\"node_color\")]\n",
    "        _pos = nx.spring_layout(H)\n",
    "        plt.figure(figsize=(8, 8))\n",
    "        nx.draw_networkx_edges(H, _pos, alpha=0.3, edge_color=\"k\")\n",
    "        nx.draw_networkx_nodes(H, _pos, node_color=_node_colors)\n",
    "        nx.draw_networkx_labels(H, _pos, font_size=14)\n",
    "        plt.axis(\"off\")\n",
    "        plt.title(\"The stripped graph with the edges removed.\")\n",
    "        plt.show()\n",
    "        # Plot the edges removed.\n",
    "        _pos = nx.spring_layout(G_minus_H)\n",
    "        plt.figure(figsize=(8, 8))\n",
    "        ncl = [G.nodes[n][\"node_color\"] for n in G_minus_H.nodes]\n",
    "        nx.draw_networkx_edges(G_minus_H, _pos, alpha=0.3, edge_color=\"k\")\n",
    "        nx.draw_networkx_nodes(G_minus_H, _pos, node_color=ncl)\n",
    "        nx.draw_networkx_labels(G_minus_H, _pos, font_size=14)\n",
    "        plt.axis(\"off\")\n",
    "        plt.title(\"The removed edges.\")\n",
    "        plt.show()\n",
    "\n",
    "    # Find the connected components in the stripped undirected graph.\n",
    "    # And use the sets, specifying the components, to partition\n",
    "    # the original directed graph into a list of directed subgraphs\n",
    "    # that contain only entirely supported or entirely unsupported nodes.\n",
    "    subgraphs = [\n",
    "        H.subgraph(c).copy() for c in nx.connected_components(H.to_undirected())\n",
    "    ]\n",
    "\n",
    "    return subgraphs, G_minus_H\n",
    "\n",
    "subgraphs_of_G_ex, removed_edges = graph_partitioning(G, plotting=False)\n",
    "\n",
    "listSeries = list(subgraphs_of_G_ex)\n",
    "\n",
    "for series in listSeries:\n",
    "    temp = list(nx.topological_sort(series))\n",
    "    print(temp[0].name, temp[-1].name)"
   ]
  },
  {
   "cell_type": "code",
   "execution_count": 8,
   "metadata": {},
   "outputs": [],
   "source": [
    "def checkGraph(graph):\n",
    "    symbGraph = {}\n",
    "    for key in graph.keys():\n",
    "        symbGraph[key.returnName()] = []\n",
    "        for elem in graph[key]:\n",
    "            symbGraph[key.returnName()].append(elem.returnName())\n",
    "    print(symbGraph)"
   ]
  },
  {
   "cell_type": "code",
   "execution_count": 9,
   "metadata": {},
   "outputs": [
    {
     "data": {
      "text/plain": [
       "{'start': ['a', 'd', 'f'], 'f': ['end'], 'end': [], 'a': ['end'], 'd': ['end']}"
      ]
     },
     "execution_count": 9,
     "metadata": {},
     "output_type": "execute_result"
    }
   ],
   "source": [
    "originalGraph = copy.deepcopy(graph)\n",
    "for series in listSeries:\n",
    "    temp = list(nx.topological_sort(series))\n",
    "    predOFSeries = pert.returnPredList(temp[0])[0]\n",
    "    succOFSeries = pert.returnSuccList(temp[-1])\n",
    "    for node in list(series.nodes):\n",
    "        del graph[node]\n",
    "    graph[temp[0]] = succOFSeries\n",
    "\n",
    "pertSimple = Pert(graph)\n",
    "pertSimple.returnGraphSymbolic()"
   ]
  },
  {
   "cell_type": "code",
   "execution_count": 10,
   "metadata": {},
   "outputs": [
    {
     "data": {
      "text/plain": [
       "{'start': ['a', 'd', 'f'], 'f': ['end'], 'end': [], 'a': ['end'], 'd': ['end']}"
      ]
     },
     "execution_count": 10,
     "metadata": {},
     "output_type": "execute_result"
    }
   ],
   "source": [
    "def simplifyGraph(pertGraph):\n",
    "    updatedGraph = copy.deepcopy(pertGraph)\n",
    "    listPairs = pairsDetection(updatedGraph)\n",
    "\n",
    "    G = nx.DiGraph()\n",
    "    G.add_edges_from(listPairs)\n",
    "\n",
    "    UG = G.to_undirected()\n",
    "    A = (UG.subgraph(c) for c in nx.connected_components(UG))\n",
    "    listSeries = list(A)\n",
    "\n",
    "    for series in listSeries:\n",
    "        temp = list(nx.topological_sort(series))\n",
    "        predOFSeries = updatedGraph.returnPredList(temp[0])[0]\n",
    "        succOFSeries = updatedGraph.returnSuccList(temp[-1])\n",
    "        for node in list(series.nodes):\n",
    "            del graph[node]\n",
    "        updatedGraph[temp[0]] = succOFSeries\n",
    "\n",
    "    return updatedGraph.returnGraphSymbolic()\n",
    "\n",
    "simplifyGraph(pert)"
   ]
  },
  {
   "cell_type": "code",
   "execution_count": 12,
   "metadata": {},
   "outputs": [
    {
     "data": {
      "text/plain": [
       "{'start': ['a', 'd', 'f'], 'f': ['end'], 'end': [], 'a': ['end'], 'd': ['end']}"
      ]
     },
     "execution_count": 12,
     "metadata": {},
     "output_type": "execute_result"
    }
   ],
   "source": [
    "pertRed = pert.simplifyGraph()\n",
    "pertRed.returnGraphSymbolic()"
   ]
  }
 ],
 "metadata": {
  "kernelspec": {
   "display_name": "myenv",
   "language": "python",
   "name": "python3"
  },
  "language_info": {
   "codemirror_mode": {
    "name": "ipython",
    "version": 3
   },
   "file_extension": ".py",
   "mimetype": "text/x-python",
   "name": "python",
   "nbconvert_exporter": "python",
   "pygments_lexer": "ipython3",
   "version": "3.12.3"
  }
 },
 "nbformat": 4,
 "nbformat_minor": 2
}
