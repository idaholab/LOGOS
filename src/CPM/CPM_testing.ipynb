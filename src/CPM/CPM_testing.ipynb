{
 "cells": [
  {
   "cell_type": "markdown",
   "metadata": {},
   "source": [
    "# Notebook designed to test PERT class methods (Model 1)"
   ]
  },
  {
   "cell_type": "code",
   "execution_count": 1,
   "metadata": {},
   "outputs": [],
   "source": [
    "from PertMain2 import Pert, Activity\n",
    "import copy"
   ]
  },
  {
   "cell_type": "markdown",
   "metadata": {},
   "source": [
    "## Initialize testing schedule"
   ]
  },
  {
   "cell_type": "code",
   "execution_count": 2,
   "metadata": {},
   "outputs": [
    {
     "data": {
      "text/plain": [
       "{'start': ['a', 'd', 'f'],\n",
       " 'a': ['b'],\n",
       " 'b': ['c'],\n",
       " 'c': ['g', 'h'],\n",
       " 'd': ['e'],\n",
       " 'e': ['c'],\n",
       " 'f': ['c'],\n",
       " 'g': ['end'],\n",
       " 'h': ['end'],\n",
       " 'end': []}"
      ]
     },
     "execution_count": 2,
     "metadata": {},
     "output_type": "execute_result"
    }
   ],
   "source": [
    "start = Activity(\"start\", 5)\n",
    "a = Activity(\"a\", 2)\n",
    "b = Activity(\"b\", 3)\n",
    "c = Activity(\"c\", 3)\n",
    "d = Activity(\"d\", 4)\n",
    "e = Activity(\"e\", 3)\n",
    "f = Activity(\"f\", 6)\n",
    "g = Activity(\"g\", 3)\n",
    "h = Activity(\"h\", 6)\n",
    "end = Activity(\"end\", 2)\n",
    "\n",
    "graph = {start: [a, d, f], \n",
    "         a: [b], \n",
    "         b: [c], \n",
    "         c: [g, h], \n",
    "         d: [e], \n",
    "         e: [c], \n",
    "         f: [c],\n",
    "         g: [end],\n",
    "         h: [end], \n",
    "         end:[]}\n",
    "\n",
    "pert = Pert(graph)\n",
    "pert.returnGraphSymbolic()"
   ]
  },
  {
   "cell_type": "code",
   "execution_count": 10,
   "metadata": {},
   "outputs": [
    {
     "data": {
      "text/html": [
       "<img src=\"model1.png\"/>"
      ],
      "text/plain": [
       "<IPython.core.display.Image object>"
      ]
     },
     "execution_count": 10,
     "metadata": {},
     "output_type": "execute_result"
    }
   ],
   "source": [
    "from IPython.display import Image \n",
    "\n",
    "Image(url=\"model1.png\") "
   ]
  },
  {
   "cell_type": "markdown",
   "metadata": {},
   "source": [
    "## Determine CP"
   ]
  },
  {
   "cell_type": "code",
   "execution_count": 3,
   "metadata": {},
   "outputs": [
    {
     "data": {
      "text/plain": [
       "['start', 'd', 'e', 'c', 'h', 'end']"
      ]
     },
     "execution_count": 3,
     "metadata": {},
     "output_type": "execute_result"
    }
   ],
   "source": [
    "pert.getCriticalPathSymbolic()"
   ]
  },
  {
   "cell_type": "code",
   "execution_count": 12,
   "metadata": {},
   "outputs": [
    {
     "data": {
      "text/html": [
       "<img src=\"model1A.png\"/>"
      ],
      "text/plain": [
       "<IPython.core.display.Image object>"
      ]
     },
     "execution_count": 12,
     "metadata": {},
     "output_type": "execute_result"
    }
   ],
   "source": [
    "Image(url=\"model1A.png\") "
   ]
  },
  {
   "cell_type": "markdown",
   "metadata": {},
   "source": [
    "## Determine paths parallel to CP"
   ]
  },
  {
   "cell_type": "code",
   "execution_count": 4,
   "metadata": {},
   "outputs": [
    {
     "name": "stdout",
     "output_type": "stream",
     "text": [
      "start a b c g end \n",
      "start a b c h end \n",
      "start d e c g end \n",
      "start f c g end \n",
      "start f c h end \n"
     ]
    }
   ],
   "source": [
    "paths = pert.getAllPathsParallelToCP()\n",
    "for path in paths:\n",
    "    for act in path:\n",
    "        print(act.name, end =\" \")\n",
    "    print()"
   ]
  },
  {
   "cell_type": "markdown",
   "metadata": {},
   "source": [
    "## Determine subpaths"
   ]
  },
  {
   "cell_type": "code",
   "execution_count": 5,
   "metadata": {},
   "outputs": [
    {
     "name": "stdout",
     "output_type": "stream",
     "text": [
      "c g end \n",
      "start a b c \n",
      "start f c \n"
     ]
    }
   ],
   "source": [
    "subpaths = pert.getSubpathsParalleltoCP()\n",
    "for subpath in subpaths:\n",
    "    pert.printPathSymbolic(subpath)"
   ]
  },
  {
   "cell_type": "markdown",
   "metadata": {},
   "source": [
    "## Simplify schedule"
   ]
  },
  {
   "cell_type": "code",
   "execution_count": 6,
   "metadata": {},
   "outputs": [
    {
     "data": {
      "text/plain": [
       "{'start': ['a', 'd', 'f'],\n",
       " 'c': ['g', 'h'],\n",
       " 'f': ['c'],\n",
       " 'g': ['end'],\n",
       " 'h': ['end'],\n",
       " 'end': [],\n",
       " 'a': ['c'],\n",
       " 'd': ['c']}"
      ]
     },
     "execution_count": 6,
     "metadata": {},
     "output_type": "execute_result"
    }
   ],
   "source": [
    "pertRed = pert.simplifyGraph()\n",
    "pertRed.returnGraphSymbolic()"
   ]
  },
  {
   "cell_type": "code",
   "execution_count": 7,
   "metadata": {},
   "outputs": [
    {
     "name": "stdout",
     "output_type": "stream",
     "text": [
      "start:  \n",
      "c:  \n",
      "f:  \n",
      "g:  \n",
      "h:  \n",
      "end:  \n",
      "a:   a  b \n",
      "d:   d  e \n"
     ]
    }
   ],
   "source": [
    "for node in pertRed.returnGraph():\n",
    "    print(node.returnName() + ': ' , end =\" \")\n",
    "    for sub in node.returnSubActivities():\n",
    "        print(' ' + sub.returnName(), end =\" \")\n",
    "    print()"
   ]
  },
  {
   "cell_type": "code",
   "execution_count": 8,
   "metadata": {},
   "outputs": [
    {
     "data": {
      "text/plain": [
       "['start', 'd', 'c', 'h', 'end']"
      ]
     },
     "execution_count": 8,
     "metadata": {},
     "output_type": "execute_result"
    }
   ],
   "source": [
    "pertRed.getCriticalPathSymbolic()"
   ]
  }
 ],
 "metadata": {
  "kernelspec": {
   "display_name": "myenv",
   "language": "python",
   "name": "python3"
  },
  "language_info": {
   "codemirror_mode": {
    "name": "ipython",
    "version": 3
   },
   "file_extension": ".py",
   "mimetype": "text/x-python",
   "name": "python",
   "nbconvert_exporter": "python",
   "pygments_lexer": "ipython3",
   "version": "3.12.3"
  }
 },
 "nbformat": 4,
 "nbformat_minor": 2
}
