{
 "cells": [
  {
   "cell_type": "code",
   "execution_count": 4,
   "metadata": {},
   "outputs": [],
   "source": [
    "from PertMain2 import Pert, Activity\n",
    "import copy\n",
    "import matplotlib.pyplot as plt\n",
    "import networkx as nx"
   ]
  },
  {
   "cell_type": "code",
   "execution_count": 5,
   "metadata": {},
   "outputs": [
    {
     "data": {
      "text/plain": [
       "{'start': ['a', 'd', 'f'],\n",
       " 'a': ['b'],\n",
       " 'b': ['c'],\n",
       " 'c': ['end'],\n",
       " 'd': ['e'],\n",
       " 'e': ['end'],\n",
       " 'f': ['end'],\n",
       " 'end': []}"
      ]
     },
     "execution_count": 5,
     "metadata": {},
     "output_type": "execute_result"
    }
   ],
   "source": [
    "\n",
    "start = Activity(\"start\", 5)\n",
    "a = Activity(\"a\", 2)\n",
    "b = Activity(\"b\", 3)\n",
    "c = Activity(\"c\", 3)\n",
    "#d = Activity(\"d\", 7)\n",
    "d = Activity(\"d\", 4)\n",
    "e = Activity(\"e\", 3)\n",
    "f = Activity(\"f\", 6)\n",
    "end = Activity(\"end\", 2)\n",
    "#graph = {start: [a, d, f], a: [b], b: [c], c: [end], d: [end], f:[end], end:[]}\n",
    "graph = {start: [a, d, f], a: [b], b: [c], c: [end], d: [e], e: [end], f:[end], end:[]}\n",
    "\n",
    "pert = Pert(graph)\n",
    "pert.returnGraphSymbolic()\n"
   ]
  },
  {
   "cell_type": "code",
   "execution_count": 6,
   "metadata": {},
   "outputs": [
    {
     "data": {
      "text/plain": [
       "{'start': ['a', 'd', 'f'], 'f': ['end'], 'end': [], 'a': ['end'], 'd': ['end']}"
      ]
     },
     "execution_count": 6,
     "metadata": {},
     "output_type": "execute_result"
    }
   ],
   "source": [
    "pertRed = pert.simplifyGraph()\n",
    "pertRed.returnGraphSymbolic()"
   ]
  }
 ],
 "metadata": {
  "kernelspec": {
   "display_name": "myenv",
   "language": "python",
   "name": "python3"
  },
  "language_info": {
   "codemirror_mode": {
    "name": "ipython",
    "version": 3
   },
   "file_extension": ".py",
   "mimetype": "text/x-python",
   "name": "python",
   "nbconvert_exporter": "python",
   "pygments_lexer": "ipython3",
   "version": "3.12.3"
  }
 },
 "nbformat": 4,
 "nbformat_minor": 2
}
