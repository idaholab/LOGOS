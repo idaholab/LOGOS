{
 "cells": [
  {
   "cell_type": "code",
   "execution_count": 11,
   "metadata": {},
   "outputs": [],
   "source": [
    "# Notebook designed to test PERT class methods (Model 2)"
   ]
  },
  {
   "cell_type": "code",
   "execution_count": 12,
   "metadata": {},
   "outputs": [],
   "source": [
    "from PertMain2 import Pert, Activity\n",
    "import copy\n",
    "import matplotlib.pyplot as plt\n",
    "import networkx as nx"
   ]
  },
  {
   "cell_type": "code",
   "execution_count": 13,
   "metadata": {},
   "outputs": [
    {
     "data": {
      "text/plain": [
       "{'start': ['b', 'f'],\n",
       " 'b': ['c'],\n",
       " 'c': ['d'],\n",
       " 'd': ['e'],\n",
       " 'e': ['i', 'end'],\n",
       " 'f': ['g'],\n",
       " 'g': ['h', 'd'],\n",
       " 'h': ['e'],\n",
       " 'i': ['end'],\n",
       " 'end': []}"
      ]
     },
     "execution_count": 13,
     "metadata": {},
     "output_type": "execute_result"
    }
   ],
   "source": [
    "\n",
    "start = Activity(\"start\", 1)\n",
    "b = Activity(\"b\", 5)\n",
    "c = Activity(\"c\", 7)\n",
    "d = Activity(\"d\", 4)\n",
    "e = Activity(\"e\", 8)\n",
    "f = Activity(\"f\", 3)\n",
    "g = Activity(\"g\", 4)\n",
    "h = Activity(\"h\", 6)\n",
    "i = Activity(\"i\", 2)\n",
    "end = Activity(\"end\", 1)\n",
    "graph = {start: [b, f], \n",
    "         b: [c], \n",
    "         c: [d], \n",
    "         d: [e], \n",
    "         e: [i,end], \n",
    "         f: [g],\n",
    "         g: [h,d],\n",
    "         h: [e],\n",
    "         i: [end], \n",
    "         end:[]}\n",
    "\n",
    "pert = Pert(graph)\n",
    "pert.returnGraphSymbolic()"
   ]
  },
  {
   "cell_type": "code",
   "execution_count": 14,
   "metadata": {},
   "outputs": [
    {
     "data": {
      "text/plain": [
       "['start', 'b', 'c', 'd', 'e', 'end']"
      ]
     },
     "execution_count": 14,
     "metadata": {},
     "output_type": "execute_result"
    }
   ],
   "source": [
    "pert.getCriticalPathSymbolic()"
   ]
  },
  {
   "cell_type": "code",
   "execution_count": 15,
   "metadata": {},
   "outputs": [
    {
     "name": "stdout",
     "output_type": "stream",
     "text": [
      "start:  \n",
      "d:  \n",
      "e:  \n",
      "h:  \n",
      "i:  \n",
      "end:  \n",
      "b:   b  c \n",
      "f:   f  g \n"
     ]
    }
   ],
   "source": [
    "pertRed = pert.simplifyGraph()\n",
    "for node in pertRed.returnGraph():\n",
    "    print(node.returnName() + ': ' , end =\" \")\n",
    "    for sub in node.returnSubActivities():\n",
    "        print(' ' + sub.returnName(), end =\" \")\n",
    "    print()\n"
   ]
  },
  {
   "cell_type": "code",
   "execution_count": 16,
   "metadata": {},
   "outputs": [
    {
     "data": {
      "text/plain": [
       "{'start': ['b', 'f'],\n",
       " 'd': ['e'],\n",
       " 'e': ['i', 'end'],\n",
       " 'h': ['e'],\n",
       " 'i': ['end'],\n",
       " 'end': [],\n",
       " 'b': ['d'],\n",
       " 'f': ['h', 'd']}"
      ]
     },
     "execution_count": 16,
     "metadata": {},
     "output_type": "execute_result"
    }
   ],
   "source": [
    "pertRed.returnGraphSymbolic()"
   ]
  },
  {
   "cell_type": "code",
   "execution_count": 17,
   "metadata": {},
   "outputs": [
    {
     "data": {
      "text/plain": [
       "['start', 'b', 'd', 'e', 'end']"
      ]
     },
     "execution_count": 17,
     "metadata": {},
     "output_type": "execute_result"
    }
   ],
   "source": [
    "pertRed.getCriticalPathSymbolic()"
   ]
  },
  {
   "cell_type": "code",
   "execution_count": 18,
   "metadata": {},
   "outputs": [],
   "source": [
    "CP = pertRed.getCriticalPath()"
   ]
  },
  {
   "cell_type": "code",
   "execution_count": 19,
   "metadata": {},
   "outputs": [
    {
     "name": "stdout",
     "output_type": "stream",
     "text": [
      "start b d e i end \n",
      "start f h e i end \n",
      "start f h e end \n",
      "start f d e i end \n",
      "start f d e end \n"
     ]
    }
   ],
   "source": [
    "paths = pertRed.getAllPathsParallelToCP()\n",
    "for path in paths:\n",
    "    pertRed.printPathSymbolic(path)"
   ]
  },
  {
   "cell_type": "code",
   "execution_count": 20,
   "metadata": {},
   "outputs": [
    {
     "name": "stdout",
     "output_type": "stream",
     "text": [
      "e i end \n",
      "start f h e \n",
      "start f d \n"
     ]
    }
   ],
   "source": [
    "subpaths = pertRed.getSubpathsParalleltoCP()\n",
    "for sub in subpaths:\n",
    "    pertRed.printPathSymbolic(sub)"
   ]
  }
 ],
 "metadata": {
  "kernelspec": {
   "display_name": "myenv",
   "language": "python",
   "name": "python3"
  },
  "language_info": {
   "codemirror_mode": {
    "name": "ipython",
    "version": 3
   },
   "file_extension": ".py",
   "mimetype": "text/x-python",
   "name": "python",
   "nbconvert_exporter": "python",
   "pygments_lexer": "ipython3",
   "version": "3.12.3"
  }
 },
 "nbformat": 4,
 "nbformat_minor": 2
}
