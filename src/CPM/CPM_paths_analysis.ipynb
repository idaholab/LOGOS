{
 "cells": [
  {
   "cell_type": "code",
   "execution_count": 1,
   "metadata": {},
   "outputs": [],
   "source": [
    "from PertMain2 import Pert, Activity\n",
    "import copy\n",
    "import matplotlib.pyplot as plt\n",
    "import networkx as nx"
   ]
  },
  {
   "cell_type": "code",
   "execution_count": 2,
   "metadata": {},
   "outputs": [
    {
     "data": {
      "text/plain": [
       "{'start': ['b', 'f'],\n",
       " 'b': ['c'],\n",
       " 'c': ['d'],\n",
       " 'd': ['e'],\n",
       " 'e': ['i', 'end'],\n",
       " 'i': ['end'],\n",
       " 'f': ['g'],\n",
       " 'g': ['h', 'd'],\n",
       " 'h': ['e'],\n",
       " 'end': []}"
      ]
     },
     "execution_count": 2,
     "metadata": {},
     "output_type": "execute_result"
    }
   ],
   "source": [
    "\n",
    "start = Activity(\"start\", 5)\n",
    "b = Activity(\"b\", 5)\n",
    "c = Activity(\"c\", 7)\n",
    "d = Activity(\"d\", 4)\n",
    "e = Activity(\"e\", 8)\n",
    "\n",
    "f = Activity(\"f\", 1)\n",
    "g = Activity(\"g\", 1)\n",
    "h = Activity(\"h\", 1)\n",
    "i = Activity(\"i\", 1)\n",
    "end = Activity(\"end\", 2)\n",
    "graph = {start: [b, f], \n",
    "         b: [c], \n",
    "         c: [d], \n",
    "         d: [e], \n",
    "         e: [i,end], \n",
    "         i: [end], \n",
    "         f: [g],\n",
    "         g: [h,d],\n",
    "         h: [e],\n",
    "         end:[]}\n",
    "\n",
    "pert = Pert(graph)\n",
    "pert.returnGraphSymbolic()\n"
   ]
  },
  {
   "cell_type": "code",
   "execution_count": 3,
   "metadata": {},
   "outputs": [
    {
     "data": {
      "text/plain": [
       "['start', 'b', 'c', 'd', 'e', 'end']"
      ]
     },
     "execution_count": 3,
     "metadata": {},
     "output_type": "execute_result"
    }
   ],
   "source": [
    "pert.getCriticalPathSymbolic()"
   ]
  },
  {
   "cell_type": "code",
   "execution_count": 4,
   "metadata": {},
   "outputs": [
    {
     "data": {
      "text/plain": [
       "[['start', 'b', 'c', 'd', 'e', 'i', 'end'],\n",
       " ['start', 'b', 'c', 'd', 'e', 'end'],\n",
       " ['start', 'f', 'g', 'h', 'e', 'i', 'end'],\n",
       " ['start', 'f', 'g', 'h', 'e', 'end'],\n",
       " ['start', 'f', 'g', 'd', 'e', 'i', 'end'],\n",
       " ['start', 'f', 'g', 'd', 'e', 'end']]"
      ]
     },
     "execution_count": 4,
     "metadata": {},
     "output_type": "execute_result"
    }
   ],
   "source": [
    "pert.getAllAlternativePaths(start,end,symbolic=True)"
   ]
  },
  {
   "cell_type": "code",
   "execution_count": 5,
   "metadata": {},
   "outputs": [
    {
     "data": {
      "text/plain": [
       "{'start': ['b', 'f'],\n",
       " 'd': ['e'],\n",
       " 'e': ['i', 'end'],\n",
       " 'i': ['end'],\n",
       " 'h': ['e'],\n",
       " 'end': [],\n",
       " 'b': ['d'],\n",
       " 'f': ['h', 'd']}"
      ]
     },
     "execution_count": 5,
     "metadata": {},
     "output_type": "execute_result"
    }
   ],
   "source": [
    "pertRed = pert.simplifyGraph()\n",
    "pertRed.returnGraphSymbolic()"
   ]
  },
  {
   "cell_type": "code",
   "execution_count": 6,
   "metadata": {},
   "outputs": [
    {
     "data": {
      "text/plain": [
       "['start', 'b', 'd', 'e', 'end']"
      ]
     },
     "execution_count": 6,
     "metadata": {},
     "output_type": "execute_result"
    }
   ],
   "source": [
    "pertRed.getCriticalPathSymbolic()"
   ]
  },
  {
   "cell_type": "code",
   "execution_count": 7,
   "metadata": {},
   "outputs": [
    {
     "data": {
      "text/plain": [
       "[[<PertMain2.Activity at 0x13a133320>,\n",
       "  <PertMain2.Activity at 0x13a133890>,\n",
       "  <PertMain2.Activity at 0x13a133230>,\n",
       "  <PertMain2.Activity at 0x13a133350>,\n",
       "  <PertMain2.Activity at 0x13a1337d0>,\n",
       "  <PertMain2.Activity at 0x13a133bc0>],\n",
       " [<PertMain2.Activity at 0x13a133320>,\n",
       "  <PertMain2.Activity at 0x13a133890>,\n",
       "  <PertMain2.Activity at 0x13a133230>,\n",
       "  <PertMain2.Activity at 0x13a133350>,\n",
       "  <PertMain2.Activity at 0x13a133bc0>],\n",
       " [<PertMain2.Activity at 0x13a133320>,\n",
       "  <PertMain2.Activity at 0x13a1332f0>,\n",
       "  <PertMain2.Activity at 0x13a133680>,\n",
       "  <PertMain2.Activity at 0x13a133350>,\n",
       "  <PertMain2.Activity at 0x13a1337d0>,\n",
       "  <PertMain2.Activity at 0x13a133bc0>],\n",
       " [<PertMain2.Activity at 0x13a133320>,\n",
       "  <PertMain2.Activity at 0x13a1332f0>,\n",
       "  <PertMain2.Activity at 0x13a133680>,\n",
       "  <PertMain2.Activity at 0x13a133350>,\n",
       "  <PertMain2.Activity at 0x13a133bc0>],\n",
       " [<PertMain2.Activity at 0x13a133320>,\n",
       "  <PertMain2.Activity at 0x13a1332f0>,\n",
       "  <PertMain2.Activity at 0x13a133230>,\n",
       "  <PertMain2.Activity at 0x13a133350>,\n",
       "  <PertMain2.Activity at 0x13a1337d0>,\n",
       "  <PertMain2.Activity at 0x13a133bc0>],\n",
       " [<PertMain2.Activity at 0x13a133320>,\n",
       "  <PertMain2.Activity at 0x13a1332f0>,\n",
       "  <PertMain2.Activity at 0x13a133230>,\n",
       "  <PertMain2.Activity at 0x13a133350>,\n",
       "  <PertMain2.Activity at 0x13a133bc0>]]"
      ]
     },
     "execution_count": 7,
     "metadata": {},
     "output_type": "execute_result"
    }
   ],
   "source": [
    "CP = pertRed.getCriticalPath()\n",
    "pertRed.getAllAlternativePaths(CP[0],CP[-1])"
   ]
  },
  {
   "cell_type": "code",
   "execution_count": 8,
   "metadata": {},
   "outputs": [
    {
     "name": "stdout",
     "output_type": "stream",
     "text": [
      "-------\n",
      "start\n",
      "b\n",
      "d\n",
      "e\n",
      "i\n",
      "end\n",
      "-------\n",
      "start\n",
      "f\n",
      "h\n",
      "e\n",
      "i\n",
      "end\n",
      "-------\n",
      "start\n",
      "f\n",
      "h\n",
      "e\n",
      "end\n",
      "-------\n",
      "start\n",
      "f\n",
      "d\n",
      "e\n",
      "i\n",
      "end\n",
      "-------\n",
      "start\n",
      "f\n",
      "d\n",
      "e\n",
      "end\n"
     ]
    }
   ],
   "source": [
    "paths = pertRed.getAllPathsParallelToCP()\n",
    "for path in paths:\n",
    "    print('-------')\n",
    "    for act in path:\n",
    "        print(act.name)"
   ]
  },
  {
   "cell_type": "code",
   "execution_count": 9,
   "metadata": {},
   "outputs": [
    {
     "name": "stdout",
     "output_type": "stream",
     "text": [
      "-f-h\n",
      "-f\n",
      "-i\n"
     ]
    }
   ],
   "source": [
    "subpaths = pertRed.getSubpathsParalleltoCP()\n",
    "for sub in subpaths:\n",
    "    pertRed.printPathSymbolic(sub)"
   ]
  },
  {
   "cell_type": "code",
   "execution_count": 10,
   "metadata": {},
   "outputs": [
    {
     "name": "stdout",
     "output_type": "stream",
     "text": [
      "The original list: [1, 4, 5, 6, 4, 5, 6, 5, 4]\n",
      "The list after splitting by value: [[1, 4], [6, 4], [6], [4]]\n"
     ]
    }
   ],
   "source": [
    "def split_list_recursive_list(test_list, result, temp_list, particular_list):\n",
    "    if not test_list:\n",
    "        result.append(temp_list)\n",
    "        return\n",
    "    if test_list[0] in particular_list:\n",
    "        result.append(temp_list)\n",
    "        split_list_recursive_list(test_list[1:], result, [], particular_list)\n",
    "    else:\n",
    "        split_list_recursive_list(test_list[1:],\n",
    "                             result,\n",
    "                             temp_list + [test_list[0]],\n",
    "                             particular_list)\n",
    "        \n",
    "test_list = [1, 4, 5, 6, 4, 5, 6, 5, 4]\n",
    "particular_list = [5]\n",
    "result = []\n",
    "print(\"The original list:\", test_list)\n",
    "split_list_recursive_list(test_list, result, [], particular_list)\n",
    "print(\"The list after splitting by value:\", result)"
   ]
  }
 ],
 "metadata": {
  "kernelspec": {
   "display_name": "myenv",
   "language": "python",
   "name": "python3"
  },
  "language_info": {
   "codemirror_mode": {
    "name": "ipython",
    "version": 3
   },
   "file_extension": ".py",
   "mimetype": "text/x-python",
   "name": "python",
   "nbconvert_exporter": "python",
   "pygments_lexer": "ipython3",
   "version": "3.12.3"
  }
 },
 "nbformat": 4,
 "nbformat_minor": 2
}
